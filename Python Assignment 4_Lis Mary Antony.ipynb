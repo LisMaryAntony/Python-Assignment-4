{
 "cells": [
  {
   "cell_type": "markdown",
   "id": "9059f29c-4c81-4546-9898-298ee2edb00a",
   "metadata": {},
   "source": [
    "# Exercise 1"
   ]
  },
  {
   "cell_type": "code",
   "execution_count": 56,
   "id": "723747c6-eea7-4fe8-9376-db7e701b2835",
   "metadata": {},
   "outputs": [],
   "source": [
    "def cal(a, b=10, c=None):\n",
    "    if c is None:\n",
    "        print(a + b)\n",
    "    else:\n",
    "        print(a * b * c)"
   ]
  },
  {
   "cell_type": "code",
   "execution_count": 58,
   "id": "82221098-bb30-4eb9-b9e1-1d10adef0d27",
   "metadata": {},
   "outputs": [
    {
     "name": "stdout",
     "output_type": "stream",
     "text": [
      "15\n"
     ]
    }
   ],
   "source": [
    "cal(5)"
   ]
  },
  {
   "cell_type": "code",
   "execution_count": 60,
   "id": "73d27009-2938-4cfc-929d-85529f2d8ccc",
   "metadata": {},
   "outputs": [
    {
     "name": "stdout",
     "output_type": "stream",
     "text": [
      "8\n"
     ]
    }
   ],
   "source": [
    "cal(5,3)"
   ]
  },
  {
   "cell_type": "code",
   "execution_count": 62,
   "id": "a2b4cbbd-7bc2-4d7f-9751-dffa44ecbf7d",
   "metadata": {},
   "outputs": [
    {
     "name": "stdout",
     "output_type": "stream",
     "text": [
      "15\n"
     ]
    }
   ],
   "source": [
    "cal(5,3,1)"
   ]
  },
  {
   "cell_type": "markdown",
   "id": "fd21c084-67f7-47d8-8f12-a7d673dc98a9",
   "metadata": {},
   "source": [
    "# Exercise 2"
   ]
  },
  {
   "cell_type": "code",
   "execution_count": 64,
   "id": "3c1fd833-1e24-40ff-bd5d-4ee5d920800c",
   "metadata": {},
   "outputs": [],
   "source": [
    "def long(strings):\n",
    "    return [s for s in strings if len(s) >= 5]"
   ]
  },
  {
   "cell_type": "code",
   "execution_count": 68,
   "id": "16198712-def8-4661-ae56-043e2f2c854f",
   "metadata": {},
   "outputs": [
    {
     "data": {
      "text/plain": [
       "['Apple', 'banana', 'Elephant']"
      ]
     },
     "execution_count": 68,
     "metadata": {},
     "output_type": "execute_result"
    }
   ],
   "source": [
    "long([\"Apple\", \"banana\", \"Cat\", \"Dog\", \"Elephant\"])"
   ]
  },
  {
   "cell_type": "markdown",
   "id": "5ee7356a-b168-458a-a447-2dc291453b13",
   "metadata": {},
   "source": [
    "# Exercise 3"
   ]
  },
  {
   "cell_type": "code",
   "execution_count": 70,
   "id": "b0d40fab-b070-444b-81f9-ac8559bf3c4d",
   "metadata": {},
   "outputs": [
    {
     "name": "stdout",
     "output_type": "stream",
     "text": [
      "17\n"
     ]
    }
   ],
   "source": [
    "expression = \"3 * 5 + 2\"\n",
    "result = eval(expression)\n",
    "print(result) "
   ]
  },
  {
   "cell_type": "markdown",
   "id": "1503b53d-61e7-4618-8228-6eeaaa00ba2d",
   "metadata": {},
   "source": [
    "# Exercise 4"
   ]
  },
  {
   "cell_type": "code",
   "execution_count": 82,
   "id": "fd3b22e3-a107-49dc-88f5-76a13f9e7a04",
   "metadata": {},
   "outputs": [
    {
     "name": "stdout",
     "output_type": "stream",
     "text": [
      "[3, 7, 11]\n"
     ]
    }
   ],
   "source": [
    "def prime(n):\n",
    "    if n <= 1:\n",
    "        return False\n",
    "    for i in range(2, int(n ** 0.5) + 1):\n",
    "        if n % i == 0:\n",
    "            return False\n",
    "    return True\n",
    "\n",
    "num = [10, 15, 3, 7, 11, 4]\n",
    "prime_numbers = list(filter(prime, num))\n",
    "print(prime_numbers)"
   ]
  },
  {
   "cell_type": "markdown",
   "id": "5edbf71d-2656-4675-8ec7-ccfc2ca12f76",
   "metadata": {},
   "source": [
    "# Exercise 5"
   ]
  },
  {
   "cell_type": "code",
   "execution_count": 84,
   "id": "fcdd2921-226b-4a18-a1ff-13633caf0de3",
   "metadata": {},
   "outputs": [
    {
     "name": "stdout",
     "output_type": "stream",
     "text": [
      "['APPLE', 'BANANA', 'CHERRY']\n"
     ]
    }
   ],
   "source": [
    "strings = [\"apple\", \"banana\", \"cherry\"]\n",
    "upper = list(map(str.upper, strings))\n",
    "print(upper)  "
   ]
  },
  {
   "cell_type": "markdown",
   "id": "6214818c-47f0-4b68-8d2b-80c9ff53e4e1",
   "metadata": {},
   "source": [
    "# Exercise 6"
   ]
  },
  {
   "cell_type": "code",
   "execution_count": 86,
   "id": "22f3fe4f-98aa-4358-a161-c151c907c572",
   "metadata": {},
   "outputs": [
    {
     "name": "stdout",
     "output_type": "stream",
     "text": [
      "[5, 6, 6]\n"
     ]
    }
   ],
   "source": [
    "strings = [\"apple\", \"banana\", \"cherry\"]\n",
    "length = list(map(len, strings))\n",
    "print(length)  "
   ]
  },
  {
   "cell_type": "markdown",
   "id": "e19ea215-09f3-429d-ab1a-4ab721a03f54",
   "metadata": {},
   "source": [
    "# Exercise 7"
   ]
  },
  {
   "cell_type": "code",
   "execution_count": 90,
   "id": "c73be5ef-1186-4ee9-9730-a02d5ad3830d",
   "metadata": {},
   "outputs": [
    {
     "name": "stdout",
     "output_type": "stream",
     "text": [
      "15\n"
     ]
    }
   ],
   "source": [
    "numbers = [1, 2, 3, 4, 5]\n",
    "total = reduce(lambda x, y: x + y, numbers)\n",
    "print(total) "
   ]
  },
  {
   "cell_type": "markdown",
   "id": "207795af-40e9-453e-9d8c-9a3802757e26",
   "metadata": {},
   "source": [
    "# Exercise 8"
   ]
  },
  {
   "cell_type": "code",
   "execution_count": 92,
   "id": "ce9e0b66-bcb0-4063-8684-867f55a41152",
   "metadata": {},
   "outputs": [
    {
     "name": "stdout",
     "output_type": "stream",
     "text": [
      "5\n"
     ]
    }
   ],
   "source": [
    "numbers = [1, 2, 3, 4, 5]\n",
    "max_value = reduce(lambda x, y: x if x > y else y, numbers)\n",
    "print(max_value)  "
   ]
  },
  {
   "cell_type": "code",
   "execution_count": null,
   "id": "acd33438-2361-4ca4-bb30-d9d42d0f46af",
   "metadata": {},
   "outputs": [],
   "source": []
  }
 ],
 "metadata": {
  "kernelspec": {
   "display_name": "Python 3 (ipykernel)",
   "language": "python",
   "name": "python3"
  },
  "language_info": {
   "codemirror_mode": {
    "name": "ipython",
    "version": 3
   },
   "file_extension": ".py",
   "mimetype": "text/x-python",
   "name": "python",
   "nbconvert_exporter": "python",
   "pygments_lexer": "ipython3",
   "version": "3.12.4"
  }
 },
 "nbformat": 4,
 "nbformat_minor": 5
}
